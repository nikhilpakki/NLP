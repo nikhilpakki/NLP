{
 "cells": [
  {
   "cell_type": "code",
   "execution_count": 1,
   "id": "4eb8abac",
   "metadata": {},
   "outputs": [],
   "source": [
    "import pandas as pd\n",
    "import numpy as np\n",
    "import matplotlib.pyplot as plt\n",
    "import re\n",
    "import os"
   ]
  },
  {
   "cell_type": "markdown",
   "id": "e93f37c5",
   "metadata": {},
   "source": [
    "## Loading Classical Data"
   ]
  },
  {
   "cell_type": "code",
   "execution_count": 2,
   "id": "491da5df",
   "metadata": {
    "scrolled": true
   },
   "outputs": [
    {
     "name": "stderr",
     "output_type": "stream",
     "text": [
      "C:\\Users\\Nikhil\\AppData\\Local\\Temp/ipykernel_51404/643371311.py:1: DtypeWarning: Columns (32,33,34,43,47) have mixed types. Specify dtype option on import or set low_memory=False.\n",
      "  df = pd.read_csv('extract_classical.csv')\n"
     ]
    }
   ],
   "source": [
    "df = pd.read_csv('extract_classical.csv')"
   ]
  },
  {
   "cell_type": "code",
   "execution_count": 3,
   "id": "47797c46",
   "metadata": {
    "scrolled": true
   },
   "outputs": [
    {
     "data": {
      "text/plain": [
       "Index(['ID_Transcode', 'MasterCategory', 'Country', 'Category', 'Manufacturer',\n",
       "       'Corporation', 'Corporation_recode', 'Product_recode', 'Pack_recode',\n",
       "       'Molecules_recode', 'ATC4_recode', 'PI_Status', 'NFC123_Recode', 'UNIT',\n",
       "       'Corporation_Group_1', 'Corporation_Group_2', 'Corporation_Group_3',\n",
       "       'Product_Group_1', 'Product_Group_2', 'Product_Group_3', 'SU', 'IU',\n",
       "       'IUe', 'TD', 'MG', 'ML', 'Segment', 'isnew', 'isDS',\n",
       "       'Corporation_Group_1_C', 'Corporation_Group_2_C',\n",
       "       'Corporation_Group_3_C', 'Product_Group_1_C', 'Product_Group_2_C',\n",
       "       'Product_Group_3_C', 'SU_C', 'IU_C', 'TD_C', 'MG_C', 'ML_C',\n",
       "       'Corrected_who', 'Corrected_when', 'LAUNCH_DATE', 'Isnew_Date',\n",
       "       'Flashclean_Product_date', 'Flashclean_Pack_date',\n",
       "       'Flashclean_Strengh_date', 'checked', 'PEq', 'PEq_C', 'MOD', 'MOD_C',\n",
       "       'IUe_C', 'CPC', 'AVD', 'TC', 'TC_C', 'Launch_Date_Recode',\n",
       "       'LOE_Date_Recode'],\n",
       "      dtype='object')"
      ]
     },
     "execution_count": 3,
     "metadata": {},
     "output_type": "execute_result"
    }
   ],
   "source": [
    "df.columns"
   ]
  },
  {
   "cell_type": "code",
   "execution_count": 4,
   "id": "ba5ba46a",
   "metadata": {},
   "outputs": [
    {
     "data": {
      "text/html": [
       "<div>\n",
       "<style scoped>\n",
       "    .dataframe tbody tr th:only-of-type {\n",
       "        vertical-align: middle;\n",
       "    }\n",
       "\n",
       "    .dataframe tbody tr th {\n",
       "        vertical-align: top;\n",
       "    }\n",
       "\n",
       "    .dataframe thead th {\n",
       "        text-align: right;\n",
       "    }\n",
       "</style>\n",
       "<table border=\"1\" class=\"dataframe\">\n",
       "  <thead>\n",
       "    <tr style=\"text-align: right;\">\n",
       "      <th></th>\n",
       "      <th>Country</th>\n",
       "      <th>Corporation</th>\n",
       "      <th>Corporation_recode</th>\n",
       "      <th>Product_recode</th>\n",
       "      <th>Pack_recode</th>\n",
       "      <th>Molecules_recode</th>\n",
       "      <th>ATC4_recode</th>\n",
       "      <th>NFC123_Recode</th>\n",
       "      <th>UNIT</th>\n",
       "      <th>Corporation_Group_1</th>\n",
       "      <th>...</th>\n",
       "      <th>Product_Group_1</th>\n",
       "      <th>Product_Group_2</th>\n",
       "      <th>Product_Group_3</th>\n",
       "      <th>SU</th>\n",
       "      <th>IU</th>\n",
       "      <th>IUe</th>\n",
       "      <th>TD</th>\n",
       "      <th>MG</th>\n",
       "      <th>ML</th>\n",
       "      <th>Segment</th>\n",
       "    </tr>\n",
       "  </thead>\n",
       "  <tbody>\n",
       "    <tr>\n",
       "      <th>0</th>\n",
       "      <td>CHILE</td>\n",
       "      <td>EUROFARMA CORP</td>\n",
       "      <td>EUROFARMA</td>\n",
       "      <td>PARODOX XR</td>\n",
       "      <td>TABL RECU LP 25MG X 30</td>\n",
       "      <td>PAROXETINE</td>\n",
       "      <td>N06A4</td>\n",
       "      <td>ABC</td>\n",
       "      <td>PACK</td>\n",
       "      <td>EUROFARMA</td>\n",
       "      <td>...</td>\n",
       "      <td>PARODOX XR</td>\n",
       "      <td>PARODOX XR</td>\n",
       "      <td>PARODOX XR</td>\n",
       "      <td>NaN</td>\n",
       "      <td>NaN</td>\n",
       "      <td>NaN</td>\n",
       "      <td>NaN</td>\n",
       "      <td>NaN</td>\n",
       "      <td>NaN</td>\n",
       "      <td>Not coded</td>\n",
       "    </tr>\n",
       "    <tr>\n",
       "      <th>1</th>\n",
       "      <td>CHILE</td>\n",
       "      <td>D M PHARMA</td>\n",
       "      <td>URIAGE</td>\n",
       "      <td>URIAGE BARIESUN</td>\n",
       "      <td>P ST/I F50X2 16G X 1</td>\n",
       "      <td>ASCORBIC ACID!BORAGO OFFICINALIS!BUTYROSPERMUM...</td>\n",
       "      <td>D02A0</td>\n",
       "      <td>MYM</td>\n",
       "      <td>PACK</td>\n",
       "      <td>Other Corps</td>\n",
       "      <td>...</td>\n",
       "      <td>OTHER SKIN CARE OTHERS</td>\n",
       "      <td>URIAGE BARIESUN</td>\n",
       "      <td>OTHER SKIN CARE OTHERS</td>\n",
       "      <td>NaN</td>\n",
       "      <td>NaN</td>\n",
       "      <td>NaN</td>\n",
       "      <td>NaN</td>\n",
       "      <td>NaN</td>\n",
       "      <td>NaN</td>\n",
       "      <td>Others</td>\n",
       "    </tr>\n",
       "    <tr>\n",
       "      <th>2</th>\n",
       "      <td>CENTRAL AMERICA</td>\n",
       "      <td>PAILL</td>\n",
       "      <td>PAILL</td>\n",
       "      <td>SUDAGRIP ANTIGRIP. (PI+)</td>\n",
       "      <td>SUDAGRIP ANTIGRIP. SOBRES 15 G X 25</td>\n",
       "      <td>ASCORBIC ACID!CHLORPHENAMINE!PARACETAMOL!PHENY...</td>\n",
       "      <td>R05B0</td>\n",
       "      <td>DEP</td>\n",
       "      <td>PACK</td>\n",
       "      <td>Other Corps</td>\n",
       "      <td>...</td>\n",
       "      <td>OTHER COLD/FLU IMMUNOSTIMULANTS</td>\n",
       "      <td>SUDAGRIP ANTIGRIP. (PI+)</td>\n",
       "      <td>OTHER COLD/FLU IMMUNOSTIMULANTS</td>\n",
       "      <td>NaN</td>\n",
       "      <td>NaN</td>\n",
       "      <td>NaN</td>\n",
       "      <td>NaN</td>\n",
       "      <td>NaN</td>\n",
       "      <td>NaN</td>\n",
       "      <td>Others</td>\n",
       "    </tr>\n",
       "    <tr>\n",
       "      <th>3</th>\n",
       "      <td>USA</td>\n",
       "      <td>TEVA PHARM USA</td>\n",
       "      <td>TEVA</td>\n",
       "      <td>AMOX TR/POT CLAVUL</td>\n",
       "      <td>PWD SUSP 200-28.5MG 100ML</td>\n",
       "      <td>AMOXICILLIN!CLAVULANIC ACID</td>\n",
       "      <td>J01C1</td>\n",
       "      <td>DEA</td>\n",
       "      <td>PACK</td>\n",
       "      <td>TEVA</td>\n",
       "      <td>...</td>\n",
       "      <td>AMOX TR/POT CLAVUL</td>\n",
       "      <td>AMOX TR/POT CLAVUL</td>\n",
       "      <td>AMOX TR/POT CLAVUL</td>\n",
       "      <td>NaN</td>\n",
       "      <td>NaN</td>\n",
       "      <td>NaN</td>\n",
       "      <td>NaN</td>\n",
       "      <td>NaN</td>\n",
       "      <td>NaN</td>\n",
       "      <td>Not coded</td>\n",
       "    </tr>\n",
       "    <tr>\n",
       "      <th>4</th>\n",
       "      <td>SAUDI ARABIA</td>\n",
       "      <td>MERCK &amp; CO</td>\n",
       "      <td>MERCK &amp; CO</td>\n",
       "      <td>JANUMET XR</td>\n",
       "      <td>F.C.T. 1000/ 100 MG 28</td>\n",
       "      <td>METFORMIN!SITAGLIPTIN</td>\n",
       "      <td>A10N3</td>\n",
       "      <td>BBC</td>\n",
       "      <td>PACK</td>\n",
       "      <td>MERCK &amp; CO</td>\n",
       "      <td>...</td>\n",
       "      <td>JANUMET</td>\n",
       "      <td>JANUVIA F</td>\n",
       "      <td>SITAGLIPTIN</td>\n",
       "      <td>28.0</td>\n",
       "      <td>NaN</td>\n",
       "      <td>NaN</td>\n",
       "      <td>NaN</td>\n",
       "      <td>NaN</td>\n",
       "      <td>NaN</td>\n",
       "      <td>COMBO</td>\n",
       "    </tr>\n",
       "  </tbody>\n",
       "</table>\n",
       "<p>5 rows × 22 columns</p>\n",
       "</div>"
      ],
      "text/plain": [
       "           Country     Corporation Corporation_recode  \\\n",
       "0            CHILE  EUROFARMA CORP          EUROFARMA   \n",
       "1            CHILE      D M PHARMA             URIAGE   \n",
       "2  CENTRAL AMERICA           PAILL              PAILL   \n",
       "3              USA  TEVA PHARM USA               TEVA   \n",
       "4     SAUDI ARABIA      MERCK & CO         MERCK & CO   \n",
       "\n",
       "             Product_recode                          Pack_recode  \\\n",
       "0                PARODOX XR               TABL RECU LP 25MG X 30   \n",
       "1           URIAGE BARIESUN                 P ST/I F50X2 16G X 1   \n",
       "2  SUDAGRIP ANTIGRIP. (PI+)  SUDAGRIP ANTIGRIP. SOBRES 15 G X 25   \n",
       "3        AMOX TR/POT CLAVUL            PWD SUSP 200-28.5MG 100ML   \n",
       "4                JANUMET XR               F.C.T. 1000/ 100 MG 28   \n",
       "\n",
       "                                    Molecules_recode ATC4_recode  \\\n",
       "0                                         PAROXETINE       N06A4   \n",
       "1  ASCORBIC ACID!BORAGO OFFICINALIS!BUTYROSPERMUM...       D02A0   \n",
       "2  ASCORBIC ACID!CHLORPHENAMINE!PARACETAMOL!PHENY...       R05B0   \n",
       "3                        AMOXICILLIN!CLAVULANIC ACID       J01C1   \n",
       "4                              METFORMIN!SITAGLIPTIN       A10N3   \n",
       "\n",
       "  NFC123_Recode  UNIT Corporation_Group_1  ...  \\\n",
       "0           ABC  PACK           EUROFARMA  ...   \n",
       "1           MYM  PACK         Other Corps  ...   \n",
       "2           DEP  PACK         Other Corps  ...   \n",
       "3           DEA  PACK                TEVA  ...   \n",
       "4           BBC  PACK          MERCK & CO  ...   \n",
       "\n",
       "                   Product_Group_1           Product_Group_2  \\\n",
       "0                       PARODOX XR                PARODOX XR   \n",
       "1           OTHER SKIN CARE OTHERS           URIAGE BARIESUN   \n",
       "2  OTHER COLD/FLU IMMUNOSTIMULANTS  SUDAGRIP ANTIGRIP. (PI+)   \n",
       "3               AMOX TR/POT CLAVUL        AMOX TR/POT CLAVUL   \n",
       "4                          JANUMET                 JANUVIA F   \n",
       "\n",
       "                   Product_Group_3    SU  IU  IUe  TD  MG  ML    Segment  \n",
       "0                       PARODOX XR   NaN NaN  NaN NaN NaN NaN  Not coded  \n",
       "1           OTHER SKIN CARE OTHERS   NaN NaN  NaN NaN NaN NaN     Others  \n",
       "2  OTHER COLD/FLU IMMUNOSTIMULANTS   NaN NaN  NaN NaN NaN NaN     Others  \n",
       "3               AMOX TR/POT CLAVUL   NaN NaN  NaN NaN NaN NaN  Not coded  \n",
       "4                      SITAGLIPTIN  28.0 NaN  NaN NaN NaN NaN      COMBO  \n",
       "\n",
       "[5 rows x 22 columns]"
      ]
     },
     "execution_count": 4,
     "metadata": {},
     "output_type": "execute_result"
    }
   ],
   "source": [
    "cols = ['Country', 'Corporation', 'Corporation_recode', 'Product_recode', 'Pack_recode',\n",
    "        'Molecules_recode', 'ATC4_recode', 'NFC123_Recode', 'UNIT',\n",
    "        'Corporation_Group_1', 'Corporation_Group_2', 'Corporation_Group_3',\n",
    "        'Product_Group_1', 'Product_Group_2', 'Product_Group_3', 'SU', 'IU',\n",
    "        'IUe', 'TD', 'MG', 'ML', 'Segment']\n",
    "df[cols].head()"
   ]
  },
  {
   "cell_type": "code",
   "execution_count": 5,
   "id": "bf5b2988",
   "metadata": {},
   "outputs": [
    {
     "data": {
      "text/html": [
       "<div>\n",
       "<style scoped>\n",
       "    .dataframe tbody tr th:only-of-type {\n",
       "        vertical-align: middle;\n",
       "    }\n",
       "\n",
       "    .dataframe tbody tr th {\n",
       "        vertical-align: top;\n",
       "    }\n",
       "\n",
       "    .dataframe thead th {\n",
       "        text-align: right;\n",
       "    }\n",
       "</style>\n",
       "<table border=\"1\" class=\"dataframe\">\n",
       "  <thead>\n",
       "    <tr style=\"text-align: right;\">\n",
       "      <th></th>\n",
       "      <th>Corporation</th>\n",
       "      <th>Corporation_recode</th>\n",
       "      <th>Product_recode</th>\n",
       "    </tr>\n",
       "  </thead>\n",
       "  <tbody>\n",
       "    <tr>\n",
       "      <th>0</th>\n",
       "      <td>EUROFARMA CORP</td>\n",
       "      <td>EUROFARMA</td>\n",
       "      <td>PARODOX XR</td>\n",
       "    </tr>\n",
       "    <tr>\n",
       "      <th>1</th>\n",
       "      <td>D M PHARMA</td>\n",
       "      <td>URIAGE</td>\n",
       "      <td>URIAGE BARIESUN</td>\n",
       "    </tr>\n",
       "  </tbody>\n",
       "</table>\n",
       "</div>"
      ],
      "text/plain": [
       "      Corporation Corporation_recode   Product_recode\n",
       "0  EUROFARMA CORP          EUROFARMA       PARODOX XR\n",
       "1      D M PHARMA             URIAGE  URIAGE BARIESUN"
      ]
     },
     "execution_count": 5,
     "metadata": {},
     "output_type": "execute_result"
    }
   ],
   "source": [
    "df.iloc[0:2,5:8]"
   ]
  },
  {
   "cell_type": "code",
   "execution_count": 6,
   "id": "32872f3e",
   "metadata": {},
   "outputs": [
    {
     "name": "stdout",
     "output_type": "stream",
     "text": [
      "(800000, 59)\n"
     ]
    }
   ],
   "source": [
    "r, c = df.shape\n",
    "print(df.shape)"
   ]
  },
  {
   "cell_type": "code",
   "execution_count": 7,
   "id": "7bc74d18",
   "metadata": {},
   "outputs": [
    {
     "data": {
      "text/plain": [
       "Country                  0.00\n",
       "Corporation              0.55\n",
       "Corporation_recode       0.00\n",
       "Product_recode           0.00\n",
       "Pack_recode              0.00\n",
       "Molecules_recode         0.00\n",
       "ATC4_recode              0.00\n",
       "NFC123_Recode            0.00\n",
       "UNIT                     0.00\n",
       "Corporation_Group_1      0.00\n",
       "Corporation_Group_2    100.00\n",
       "Corporation_Group_3    100.00\n",
       "Product_Group_1          0.00\n",
       "Product_Group_2          0.01\n",
       "Product_Group_3          0.00\n",
       "SU                      82.67\n",
       "IU                      98.46\n",
       "IUe                     99.91\n",
       "TD                      97.98\n",
       "MG                      94.93\n",
       "ML                      99.40\n",
       "Segment                  0.00\n",
       "dtype: float64"
      ]
     },
     "execution_count": 7,
     "metadata": {},
     "output_type": "execute_result"
    }
   ],
   "source": [
    "round((df[cols].isnull()).sum()*100/r, 2)"
   ]
  },
  {
   "cell_type": "markdown",
   "id": "22c8f81a",
   "metadata": {},
   "source": [
    "### Fill NULL values"
   ]
  },
  {
   "cell_type": "code",
   "execution_count": 8,
   "id": "865889b4",
   "metadata": {},
   "outputs": [],
   "source": [
    "df.fillna('', inplace=True)"
   ]
  },
  {
   "cell_type": "code",
   "execution_count": 9,
   "id": "b8148f51",
   "metadata": {},
   "outputs": [
    {
     "data": {
      "text/html": [
       "<div>\n",
       "<style scoped>\n",
       "    .dataframe tbody tr th:only-of-type {\n",
       "        vertical-align: middle;\n",
       "    }\n",
       "\n",
       "    .dataframe tbody tr th {\n",
       "        vertical-align: top;\n",
       "    }\n",
       "\n",
       "    .dataframe thead th {\n",
       "        text-align: right;\n",
       "    }\n",
       "</style>\n",
       "<table border=\"1\" class=\"dataframe\">\n",
       "  <thead>\n",
       "    <tr style=\"text-align: right;\">\n",
       "      <th></th>\n",
       "      <th>Corporation_recode</th>\n",
       "      <th>Product_recode</th>\n",
       "      <th>Molecules_recode</th>\n",
       "      <th>Product_Group_3</th>\n",
       "    </tr>\n",
       "  </thead>\n",
       "  <tbody>\n",
       "    <tr>\n",
       "      <th>0</th>\n",
       "      <td>EUROFARMA</td>\n",
       "      <td>PARODOX XR</td>\n",
       "      <td>PAROXETINE</td>\n",
       "      <td>PARODOX XR</td>\n",
       "    </tr>\n",
       "    <tr>\n",
       "      <th>1</th>\n",
       "      <td>URIAGE</td>\n",
       "      <td>URIAGE BARIESUN</td>\n",
       "      <td>ASCORBIC ACID!BORAGO OFFICINALIS!BUTYROSPERMUM...</td>\n",
       "      <td>OTHER SKIN CARE OTHERS</td>\n",
       "    </tr>\n",
       "    <tr>\n",
       "      <th>2</th>\n",
       "      <td>PAILL</td>\n",
       "      <td>SUDAGRIP ANTIGRIP. (PI+)</td>\n",
       "      <td>ASCORBIC ACID!CHLORPHENAMINE!PARACETAMOL!PHENY...</td>\n",
       "      <td>OTHER COLD/FLU IMMUNOSTIMULANTS</td>\n",
       "    </tr>\n",
       "    <tr>\n",
       "      <th>3</th>\n",
       "      <td>TEVA</td>\n",
       "      <td>AMOX TR/POT CLAVUL</td>\n",
       "      <td>AMOXICILLIN!CLAVULANIC ACID</td>\n",
       "      <td>AMOX TR/POT CLAVUL</td>\n",
       "    </tr>\n",
       "    <tr>\n",
       "      <th>4</th>\n",
       "      <td>MERCK &amp; CO</td>\n",
       "      <td>JANUMET XR</td>\n",
       "      <td>METFORMIN!SITAGLIPTIN</td>\n",
       "      <td>SITAGLIPTIN</td>\n",
       "    </tr>\n",
       "  </tbody>\n",
       "</table>\n",
       "</div>"
      ],
      "text/plain": [
       "  Corporation_recode            Product_recode  \\\n",
       "0          EUROFARMA                PARODOX XR   \n",
       "1             URIAGE           URIAGE BARIESUN   \n",
       "2              PAILL  SUDAGRIP ANTIGRIP. (PI+)   \n",
       "3               TEVA        AMOX TR/POT CLAVUL   \n",
       "4         MERCK & CO                JANUMET XR   \n",
       "\n",
       "                                    Molecules_recode  \\\n",
       "0                                         PAROXETINE   \n",
       "1  ASCORBIC ACID!BORAGO OFFICINALIS!BUTYROSPERMUM...   \n",
       "2  ASCORBIC ACID!CHLORPHENAMINE!PARACETAMOL!PHENY...   \n",
       "3                        AMOXICILLIN!CLAVULANIC ACID   \n",
       "4                              METFORMIN!SITAGLIPTIN   \n",
       "\n",
       "                   Product_Group_3  \n",
       "0                       PARODOX XR  \n",
       "1           OTHER SKIN CARE OTHERS  \n",
       "2  OTHER COLD/FLU IMMUNOSTIMULANTS  \n",
       "3               AMOX TR/POT CLAVUL  \n",
       "4                      SITAGLIPTIN  "
      ]
     },
     "execution_count": 9,
     "metadata": {},
     "output_type": "execute_result"
    }
   ],
   "source": [
    "# check the relevant columns for identifying the product group 3 (active molecule)\n",
    "# we can consider the columns Corporation_recode, Product_recode, Molecules_recode for identifying the Product_Group_3\n",
    "cols_i = ['Corporation_recode', 'Product_recode', 'Molecules_recode', 'Product_Group_3']\n",
    "df[cols_i].head()"
   ]
  },
  {
   "cell_type": "code",
   "execution_count": 10,
   "id": "70b41054",
   "metadata": {},
   "outputs": [
    {
     "data": {
      "text/plain": [
       "'ASCORBIC ACID!BORAGO OFFICINALIS!BUTYROSPERMUM PARKII!PERSEA GRATISSIMA!RETINOL!TITANIUM!VITAMIN E'"
      ]
     },
     "execution_count": 10,
     "metadata": {},
     "output_type": "execute_result"
    }
   ],
   "source": [
    "df[cols_i].iloc[1,2]"
   ]
  },
  {
   "cell_type": "markdown",
   "id": "ce587328",
   "metadata": {},
   "source": [
    "### We can't make use of Named Entity Recognition for finding out the Product_Group_3 as the entity takes  different forms in the context"
   ]
  },
  {
   "cell_type": "markdown",
   "id": "f2076a98",
   "metadata": {},
   "source": [
    "### We need to make use of seq2seq model for recoding and transcoding along with some post processing"
   ]
  },
  {
   "cell_type": "code",
   "execution_count": null,
   "id": "eac91594",
   "metadata": {},
   "outputs": [],
   "source": []
  },
  {
   "cell_type": "code",
   "execution_count": null,
   "id": "c8d8bd95",
   "metadata": {},
   "outputs": [],
   "source": [
    "df_new = df[~df['Category'].str.contains('_Boost')]"
   ]
  },
  {
   "cell_type": "code",
   "execution_count": null,
   "id": "1d76e8e9",
   "metadata": {},
   "outputs": [],
   "source": [
    "df_new[df_new['SU'].isnull()]['MasterCategory'].unique()"
   ]
  },
  {
   "cell_type": "code",
   "execution_count": null,
   "id": "32e411b6",
   "metadata": {},
   "outputs": [],
   "source": [
    "df_new.shape"
   ]
  },
  {
   "cell_type": "code",
   "execution_count": null,
   "id": "129bb358",
   "metadata": {},
   "outputs": [],
   "source": [
    "r_new, c_new = df_new.shape\n",
    "round((df_new[cols].isnull()).sum()*100/r_new, 2)"
   ]
  },
  {
   "cell_type": "code",
   "execution_count": null,
   "id": "63302604",
   "metadata": {},
   "outputs": [],
   "source": [
    "df[df['SU'].isnull()]['MasterCategory'].unique()"
   ]
  },
  {
   "cell_type": "code",
   "execution_count": null,
   "id": "8228fecd",
   "metadata": {},
   "outputs": [],
   "source": [
    "(df[~df['SU'].isnull()])[cols]"
   ]
  },
  {
   "cell_type": "code",
   "execution_count": null,
   "id": "8e0e4a72",
   "metadata": {},
   "outputs": [],
   "source": [
    "a = df[df['SU'].isnull()]"
   ]
  },
  {
   "cell_type": "code",
   "execution_count": null,
   "id": "bfe53da2",
   "metadata": {
    "scrolled": true
   },
   "outputs": [],
   "source": [
    "a[a['MasterCategory']=='EP'][cols]"
   ]
  },
  {
   "cell_type": "code",
   "execution_count": null,
   "id": "c1845b2c",
   "metadata": {},
   "outputs": [],
   "source": []
  },
  {
   "cell_type": "markdown",
   "id": "7a700559",
   "metadata": {},
   "source": [
    "### Word2Vec for Classical data"
   ]
  },
  {
   "cell_type": "code",
   "execution_count": null,
   "id": "3ecced42",
   "metadata": {},
   "outputs": [],
   "source": [
    "from tensorflow.keras.preprocessing.text import one_hot, text_to_word_sequence\n",
    "from tensorflow.keras.preprocessing.sequence import pad_sequences\n",
    "from tensorflow.keras.models import Sequential\n",
    "from tensorflow.keras.layers import Dense\n",
    "from tensorflow.keras.layers import Flatten\n",
    "from tensorflow.keras.layers import Embedding\n",
    "import itertools\n",
    "\n",
    "reviews = ['nice food',\n",
    "        'amazing restaurant',\n",
    "        'too good',\n",
    "        'just loved it!',\n",
    "        'will go again',\n",
    "        'horrible food',\n",
    "        'never go there',\n",
    "        'poor service',\n",
    "        'poor quality',\n",
    "        'needs improvement']\n",
    "\n",
    "sentiment = np.array([1,1,1,1,1,0,0,0,0,0])"
   ]
  },
  {
   "cell_type": "code",
   "execution_count": null,
   "id": "580eced1",
   "metadata": {},
   "outputs": [],
   "source": [
    "a = one_hot(\"amazing restaurant\",2)"
   ]
  },
  {
   "cell_type": "code",
   "execution_count": null,
   "id": "0ebb78e8",
   "metadata": {},
   "outputs": [],
   "source": [
    "pack_data = list(df['Pack_recode'])"
   ]
  },
  {
   "cell_type": "code",
   "execution_count": null,
   "id": "b5576f6d",
   "metadata": {},
   "outputs": [],
   "source": [
    "pack_data = [text_to_word_sequence(x) for x in pack_data]"
   ]
  },
  {
   "cell_type": "code",
   "execution_count": null,
   "id": "7cff05f6",
   "metadata": {},
   "outputs": [],
   "source": [
    "vocab = list(itertools.chain(*pack_data))"
   ]
  },
  {
   "cell_type": "code",
   "execution_count": null,
   "id": "cdf48eb4",
   "metadata": {},
   "outputs": [],
   "source": [
    "len(vocab)"
   ]
  },
  {
   "cell_type": "code",
   "execution_count": null,
   "id": "32e2da2e",
   "metadata": {},
   "outputs": [],
   "source": [
    "vocab = list(set(vocab))\n",
    "len(vocab)"
   ]
  },
  {
   "cell_type": "code",
   "execution_count": null,
   "id": "c7647559",
   "metadata": {},
   "outputs": [],
   "source": [
    "vocab_size = 60970\n",
    "encoded_pack = [one_hot(pack, vocab_size) for pack in pack_data]\n",
    "print(encoded_pack)"
   ]
  },
  {
   "cell_type": "code",
   "execution_count": null,
   "id": "d558245c",
   "metadata": {},
   "outputs": [],
   "source": [
    "max_len = 0\n",
    "for x in encoded_pack:\n",
    "    len_x = len(x)\n",
    "    if max_len < len_x:\n",
    "        max_len = len_x\n",
    "print(max_len)"
   ]
  },
  {
   "cell_type": "code",
   "execution_count": null,
   "id": "30af8baf",
   "metadata": {},
   "outputs": [],
   "source": [
    "max_length = 25\n",
    "padded_pack = pad_sequences(encoded_pack, maxlen=max_length, padding='post')\n",
    "print(padded_pack[0])"
   ]
  },
  {
   "cell_type": "code",
   "execution_count": null,
   "id": "b0decedf",
   "metadata": {},
   "outputs": [],
   "source": [
    "embeded_vector_size = 512\n",
    "\n",
    "model = Sequential()\n",
    "model.add(Embedding(vocab_size, embeded_vector_size, input_length=max_length,name=\"embedding\"))\n",
    "model.add(Flatten())\n",
    "model.add(Dense(1, activation='sigmoid'))"
   ]
  },
  {
   "cell_type": "code",
   "execution_count": null,
   "id": "f6e83066",
   "metadata": {},
   "outputs": [],
   "source": [
    "X = padded_reviews\n",
    "y = sentiment"
   ]
  },
  {
   "cell_type": "code",
   "execution_count": null,
   "id": "4fd6e9ce",
   "metadata": {},
   "outputs": [],
   "source": [
    "model.compile(optimizer='adam', loss='binary_crossentropy', metrics=['accuracy'])\n",
    "print(model.summary())"
   ]
  },
  {
   "cell_type": "code",
   "execution_count": null,
   "id": "922026b5",
   "metadata": {},
   "outputs": [],
   "source": [
    "df.columns"
   ]
  },
  {
   "cell_type": "code",
   "execution_count": null,
   "id": "8d3ec75d",
   "metadata": {},
   "outputs": [],
   "source": [
    "df[~df['NFC123_Recode'].str.contains('\\-|UNKNOWN', regex=True)]['NFC123_Recode'].value_counts()"
   ]
  },
  {
   "cell_type": "code",
   "execution_count": null,
   "id": "83b63962",
   "metadata": {},
   "outputs": [],
   "source": [
    "df_new = df['Corporation_recode'] + ' ' + df['Product_recode'] + ' ' + df['Molecules_recode'] + ' ' + df['Pack_recode']\n",
    "df_new"
   ]
  },
  {
   "cell_type": "code",
   "execution_count": null,
   "id": "b037c511",
   "metadata": {},
   "outputs": [],
   "source": [
    "import gensim"
   ]
  },
  {
   "cell_type": "code",
   "execution_count": null,
   "id": "737debda",
   "metadata": {},
   "outputs": [],
   "source": [
    "def split_text(text):\n",
    "    text = text.lower()\n",
    "    text = re.sub(r'[\\(\\)]', '', text)\n",
    "    text = re.sub(r'\\s+', ' ', text)\n",
    "    text = text.replace(',', '.')\n",
    "    text = re.sub(r'[\\.\\+\\!]', ' ', text)\n",
    "    # text = text.replace('.', ' ').replace('+', ' ').replace('!', ' ')\n",
    "    return re.split('[\\s\\-\\/]', text)"
   ]
  },
  {
   "cell_type": "code",
   "execution_count": null,
   "id": "5de7eaed",
   "metadata": {},
   "outputs": [],
   "source": [
    "df_new = df_new.apply(str)\n",
    "df_new = df_new.apply(split_text)"
   ]
  },
  {
   "cell_type": "code",
   "execution_count": null,
   "id": "c2017e91",
   "metadata": {
    "scrolled": true
   },
   "outputs": [],
   "source": [
    "df_new"
   ]
  },
  {
   "cell_type": "code",
   "execution_count": null,
   "id": "c6cc5864",
   "metadata": {},
   "outputs": [],
   "source": [
    "model = gensim.models.Word2Vec(vector_size=64,\n",
    "    window=3,\n",
    "    min_count=2,\n",
    "    workers=4, sg=1\n",
    ")"
   ]
  },
  {
   "cell_type": "code",
   "execution_count": null,
   "id": "7d7eb41f",
   "metadata": {},
   "outputs": [],
   "source": [
    "model.build_vocab(df_new, progress_per=1000)"
   ]
  },
  {
   "cell_type": "code",
   "execution_count": null,
   "id": "8e61f9ba",
   "metadata": {
    "scrolled": true
   },
   "outputs": [],
   "source": [
    "model.train(df_new, total_examples=model.corpus_count, epochs=model.epochs)"
   ]
  },
  {
   "cell_type": "code",
   "execution_count": null,
   "id": "98f7e024",
   "metadata": {},
   "outputs": [],
   "source": [
    "model.wv.most_similar('prati'.lower(), 'ibu')"
   ]
  },
  {
   "cell_type": "code",
   "execution_count": null,
   "id": "156e7223",
   "metadata": {},
   "outputs": [],
   "source": [
    "model.wv.most_similar('eurofarma',\n",
    " 'paroxetine')"
   ]
  },
  {
   "cell_type": "code",
   "execution_count": null,
   "id": "c1ce2ac7",
   "metadata": {},
   "outputs": [],
   "source": [
    "df_new.iloc[0]"
   ]
  },
  {
   "cell_type": "code",
   "execution_count": null,
   "id": "a36a27c6",
   "metadata": {},
   "outputs": [],
   "source": [
    "model.predict_output_word(['eurofarma',\n",
    " 'paroxetine'])"
   ]
  },
  {
   "cell_type": "code",
   "execution_count": null,
   "id": "72908f3a",
   "metadata": {},
   "outputs": [],
   "source": []
  },
  {
   "cell_type": "markdown",
   "id": "512e5124",
   "metadata": {},
   "source": [
    "### Sequence to Sequence modelling "
   ]
  },
  {
   "cell_type": "code",
   "execution_count": null,
   "id": "17edf15f",
   "metadata": {},
   "outputs": [],
   "source": []
  },
  {
   "cell_type": "code",
   "execution_count": 11,
   "id": "bb4aee17",
   "metadata": {},
   "outputs": [
    {
     "data": {
      "text/html": [
       "<div>\n",
       "<style scoped>\n",
       "    .dataframe tbody tr th:only-of-type {\n",
       "        vertical-align: middle;\n",
       "    }\n",
       "\n",
       "    .dataframe tbody tr th {\n",
       "        vertical-align: top;\n",
       "    }\n",
       "\n",
       "    .dataframe thead th {\n",
       "        text-align: right;\n",
       "    }\n",
       "</style>\n",
       "<table border=\"1\" class=\"dataframe\">\n",
       "  <thead>\n",
       "    <tr style=\"text-align: right;\">\n",
       "      <th></th>\n",
       "      <th>Corporation_recode</th>\n",
       "      <th>Product_recode</th>\n",
       "      <th>Molecules_recode</th>\n",
       "      <th>Product_Group_3</th>\n",
       "    </tr>\n",
       "  </thead>\n",
       "  <tbody>\n",
       "    <tr>\n",
       "      <th>0</th>\n",
       "      <td>EUROFARMA</td>\n",
       "      <td>PARODOX XR</td>\n",
       "      <td>PAROXETINE</td>\n",
       "      <td>PARODOX XR</td>\n",
       "    </tr>\n",
       "    <tr>\n",
       "      <th>1</th>\n",
       "      <td>URIAGE</td>\n",
       "      <td>URIAGE BARIESUN</td>\n",
       "      <td>ASCORBIC ACID!BORAGO OFFICINALIS!BUTYROSPERMUM...</td>\n",
       "      <td>OTHER SKIN CARE OTHERS</td>\n",
       "    </tr>\n",
       "    <tr>\n",
       "      <th>2</th>\n",
       "      <td>PAILL</td>\n",
       "      <td>SUDAGRIP ANTIGRIP. (PI+)</td>\n",
       "      <td>ASCORBIC ACID!CHLORPHENAMINE!PARACETAMOL!PHENY...</td>\n",
       "      <td>OTHER COLD/FLU IMMUNOSTIMULANTS</td>\n",
       "    </tr>\n",
       "    <tr>\n",
       "      <th>3</th>\n",
       "      <td>TEVA</td>\n",
       "      <td>AMOX TR/POT CLAVUL</td>\n",
       "      <td>AMOXICILLIN!CLAVULANIC ACID</td>\n",
       "      <td>AMOX TR/POT CLAVUL</td>\n",
       "    </tr>\n",
       "    <tr>\n",
       "      <th>4</th>\n",
       "      <td>MERCK &amp; CO</td>\n",
       "      <td>JANUMET XR</td>\n",
       "      <td>METFORMIN!SITAGLIPTIN</td>\n",
       "      <td>SITAGLIPTIN</td>\n",
       "    </tr>\n",
       "  </tbody>\n",
       "</table>\n",
       "</div>"
      ],
      "text/plain": [
       "  Corporation_recode            Product_recode  \\\n",
       "0          EUROFARMA                PARODOX XR   \n",
       "1             URIAGE           URIAGE BARIESUN   \n",
       "2              PAILL  SUDAGRIP ANTIGRIP. (PI+)   \n",
       "3               TEVA        AMOX TR/POT CLAVUL   \n",
       "4         MERCK & CO                JANUMET XR   \n",
       "\n",
       "                                    Molecules_recode  \\\n",
       "0                                         PAROXETINE   \n",
       "1  ASCORBIC ACID!BORAGO OFFICINALIS!BUTYROSPERMUM...   \n",
       "2  ASCORBIC ACID!CHLORPHENAMINE!PARACETAMOL!PHENY...   \n",
       "3                        AMOXICILLIN!CLAVULANIC ACID   \n",
       "4                              METFORMIN!SITAGLIPTIN   \n",
       "\n",
       "                   Product_Group_3  \n",
       "0                       PARODOX XR  \n",
       "1           OTHER SKIN CARE OTHERS  \n",
       "2  OTHER COLD/FLU IMMUNOSTIMULANTS  \n",
       "3               AMOX TR/POT CLAVUL  \n",
       "4                      SITAGLIPTIN  "
      ]
     },
     "execution_count": 11,
     "metadata": {},
     "output_type": "execute_result"
    }
   ],
   "source": [
    "# check the relevant columns for identifying the product group 3 (active molecule)\n",
    "# we can consider the columns Corporation_recode, Product_recode, Molecules_recode for identifying the Product_Group_3\n",
    "cols_i = ['Corporation_recode', 'Product_recode', 'Molecules_recode', 'Product_Group_3']\n",
    "df[cols_i].head()"
   ]
  },
  {
   "cell_type": "code",
   "execution_count": 12,
   "id": "6ae7016a",
   "metadata": {
    "scrolled": true
   },
   "outputs": [],
   "source": [
    "from fast_ml.model_development import train_valid_test_split"
   ]
  },
  {
   "cell_type": "code",
   "execution_count": 13,
   "id": "eeced0cc",
   "metadata": {},
   "outputs": [],
   "source": [
    "input_text = df['Corporation_recode'] + ' ' + df['Product_recode'] + ' ' + df['Molecules_recode'].str.replace('!', ' ')\n",
    "output_text = df['Product_Group_3']"
   ]
  },
  {
   "cell_type": "code",
   "execution_count": 14,
   "id": "f9a86e97",
   "metadata": {},
   "outputs": [
    {
     "data": {
      "text/html": [
       "<div>\n",
       "<style scoped>\n",
       "    .dataframe tbody tr th:only-of-type {\n",
       "        vertical-align: middle;\n",
       "    }\n",
       "\n",
       "    .dataframe tbody tr th {\n",
       "        vertical-align: top;\n",
       "    }\n",
       "\n",
       "    .dataframe thead th {\n",
       "        text-align: right;\n",
       "    }\n",
       "</style>\n",
       "<table border=\"1\" class=\"dataframe\">\n",
       "  <thead>\n",
       "    <tr style=\"text-align: right;\">\n",
       "      <th></th>\n",
       "      <th>input_text</th>\n",
       "      <th>target_text</th>\n",
       "    </tr>\n",
       "  </thead>\n",
       "  <tbody>\n",
       "    <tr>\n",
       "      <th>0</th>\n",
       "      <td>EUROFARMA PARODOX XR PAROXETINE</td>\n",
       "      <td>PARODOX XR</td>\n",
       "    </tr>\n",
       "    <tr>\n",
       "      <th>1</th>\n",
       "      <td>URIAGE URIAGE BARIESUN ASCORBIC ACID BORAGO OF...</td>\n",
       "      <td>OTHER SKIN CARE OTHERS</td>\n",
       "    </tr>\n",
       "    <tr>\n",
       "      <th>2</th>\n",
       "      <td>PAILL SUDAGRIP ANTIGRIP. (PI+) ASCORBIC ACID C...</td>\n",
       "      <td>OTHER COLD/FLU IMMUNOSTIMULANTS</td>\n",
       "    </tr>\n",
       "    <tr>\n",
       "      <th>3</th>\n",
       "      <td>TEVA AMOX TR/POT CLAVUL AMOXICILLIN CLAVULANIC...</td>\n",
       "      <td>AMOX TR/POT CLAVUL</td>\n",
       "    </tr>\n",
       "    <tr>\n",
       "      <th>4</th>\n",
       "      <td>MERCK &amp; CO JANUMET XR METFORMIN SITAGLIPTIN</td>\n",
       "      <td>SITAGLIPTIN</td>\n",
       "    </tr>\n",
       "  </tbody>\n",
       "</table>\n",
       "</div>"
      ],
      "text/plain": [
       "                                          input_text  \\\n",
       "0                    EUROFARMA PARODOX XR PAROXETINE   \n",
       "1  URIAGE URIAGE BARIESUN ASCORBIC ACID BORAGO OF...   \n",
       "2  PAILL SUDAGRIP ANTIGRIP. (PI+) ASCORBIC ACID C...   \n",
       "3  TEVA AMOX TR/POT CLAVUL AMOXICILLIN CLAVULANIC...   \n",
       "4        MERCK & CO JANUMET XR METFORMIN SITAGLIPTIN   \n",
       "\n",
       "                       target_text  \n",
       "0                       PARODOX XR  \n",
       "1           OTHER SKIN CARE OTHERS  \n",
       "2  OTHER COLD/FLU IMMUNOSTIMULANTS  \n",
       "3               AMOX TR/POT CLAVUL  \n",
       "4                      SITAGLIPTIN  "
      ]
     },
     "execution_count": 14,
     "metadata": {},
     "output_type": "execute_result"
    }
   ],
   "source": [
    "raw_text_df = pd.DataFrame(input_text)\n",
    "raw_text_df['Product_Group_3'] = output_text\n",
    "raw_text_df.columns = ['input_text', 'target_text']\n",
    "raw_text_df.head()"
   ]
  },
  {
   "cell_type": "code",
   "execution_count": 15,
   "id": "7c6028a8",
   "metadata": {},
   "outputs": [],
   "source": [
    "X_train, y_train, X_valid, y_valid, X_test, y_test = train_valid_test_split(raw_text_df, target = 'target_text',\n",
    "                                                                            train_size=0.8, valid_size=0.1, test_size=0.1)"
   ]
  },
  {
   "cell_type": "code",
   "execution_count": 16,
   "id": "30da5f67",
   "metadata": {},
   "outputs": [
    {
     "data": {
      "text/html": [
       "<div>\n",
       "<style scoped>\n",
       "    .dataframe tbody tr th:only-of-type {\n",
       "        vertical-align: middle;\n",
       "    }\n",
       "\n",
       "    .dataframe tbody tr th {\n",
       "        vertical-align: top;\n",
       "    }\n",
       "\n",
       "    .dataframe thead th {\n",
       "        text-align: right;\n",
       "    }\n",
       "</style>\n",
       "<table border=\"1\" class=\"dataframe\">\n",
       "  <thead>\n",
       "    <tr style=\"text-align: right;\">\n",
       "      <th></th>\n",
       "      <th>input_text</th>\n",
       "      <th>target_text</th>\n",
       "    </tr>\n",
       "  </thead>\n",
       "  <tbody>\n",
       "    <tr>\n",
       "      <th>76658</th>\n",
       "      <td>XELLIA AMPICILLIN/SULBACTAM AMPICILLIN SULBACTAM</td>\n",
       "      <td>AMPICILLIN/SULBACTAM</td>\n",
       "    </tr>\n",
       "    <tr>\n",
       "      <th>22924</th>\n",
       "      <td>BIOGEN ZINBRYTA DACLIZUMAB</td>\n",
       "      <td>ZINBRYTA</td>\n",
       "    </tr>\n",
       "    <tr>\n",
       "      <th>573616</th>\n",
       "      <td>RAFFO GARDOTON GLIBENCLAMIDE</td>\n",
       "      <td>GLIBENCLAMIDE</td>\n",
       "    </tr>\n",
       "    <tr>\n",
       "      <th>705611</th>\n",
       "      <td>ATLANTIC GRUPA NAT&amp;FORM UNKNOWN</td>\n",
       "      <td>OTHER MUSCLE PAIN ANALGESICS</td>\n",
       "    </tr>\n",
       "    <tr>\n",
       "      <th>669306</th>\n",
       "      <td>BIOGROUP PSICOPHYT 19 UNKNOWN</td>\n",
       "      <td>OTHER MOOD ENHANCING PRODUCTS</td>\n",
       "    </tr>\n",
       "  </tbody>\n",
       "</table>\n",
       "</div>"
      ],
      "text/plain": [
       "                                              input_text  \\\n",
       "76658   XELLIA AMPICILLIN/SULBACTAM AMPICILLIN SULBACTAM   \n",
       "22924                         BIOGEN ZINBRYTA DACLIZUMAB   \n",
       "573616                      RAFFO GARDOTON GLIBENCLAMIDE   \n",
       "705611                   ATLANTIC GRUPA NAT&FORM UNKNOWN   \n",
       "669306                     BIOGROUP PSICOPHYT 19 UNKNOWN   \n",
       "\n",
       "                          target_text  \n",
       "76658            AMPICILLIN/SULBACTAM  \n",
       "22924                        ZINBRYTA  \n",
       "573616                  GLIBENCLAMIDE  \n",
       "705611   OTHER MUSCLE PAIN ANALGESICS  \n",
       "669306  OTHER MOOD ENHANCING PRODUCTS  "
      ]
     },
     "execution_count": 16,
     "metadata": {},
     "output_type": "execute_result"
    }
   ],
   "source": [
    "train_df = pd.concat([X_train, y_train], axis=1)\n",
    "train_df.head()"
   ]
  },
  {
   "cell_type": "code",
   "execution_count": 17,
   "id": "5b6b0f4e",
   "metadata": {},
   "outputs": [
    {
     "data": {
      "text/html": [
       "<div>\n",
       "<style scoped>\n",
       "    .dataframe tbody tr th:only-of-type {\n",
       "        vertical-align: middle;\n",
       "    }\n",
       "\n",
       "    .dataframe tbody tr th {\n",
       "        vertical-align: top;\n",
       "    }\n",
       "\n",
       "    .dataframe thead th {\n",
       "        text-align: right;\n",
       "    }\n",
       "</style>\n",
       "<table border=\"1\" class=\"dataframe\">\n",
       "  <thead>\n",
       "    <tr style=\"text-align: right;\">\n",
       "      <th></th>\n",
       "      <th>input_text</th>\n",
       "      <th>target_text</th>\n",
       "    </tr>\n",
       "  </thead>\n",
       "  <tbody>\n",
       "    <tr>\n",
       "      <th>76658</th>\n",
       "      <td>XELLIA AMPICILLIN/SULBACTAM AMPICILLIN SULBACTAM</td>\n",
       "      <td>AMPICILLIN/SULBACTAM</td>\n",
       "    </tr>\n",
       "    <tr>\n",
       "      <th>22924</th>\n",
       "      <td>BIOGEN ZINBRYTA DACLIZUMAB</td>\n",
       "      <td>ZINBRYTA</td>\n",
       "    </tr>\n",
       "    <tr>\n",
       "      <th>573616</th>\n",
       "      <td>RAFFO GARDOTON GLIBENCLAMIDE</td>\n",
       "      <td>GLIBENCLAMIDE</td>\n",
       "    </tr>\n",
       "    <tr>\n",
       "      <th>705611</th>\n",
       "      <td>ATLANTIC GRUPA NAT&amp;FORM UNKNOWN</td>\n",
       "      <td>OTHER MUSCLE PAIN ANALGESICS</td>\n",
       "    </tr>\n",
       "    <tr>\n",
       "      <th>669306</th>\n",
       "      <td>BIOGROUP PSICOPHYT 19 UNKNOWN</td>\n",
       "      <td>OTHER MOOD ENHANCING PRODUCTS</td>\n",
       "    </tr>\n",
       "  </tbody>\n",
       "</table>\n",
       "</div>"
      ],
      "text/plain": [
       "                                              input_text  \\\n",
       "76658   XELLIA AMPICILLIN/SULBACTAM AMPICILLIN SULBACTAM   \n",
       "22924                         BIOGEN ZINBRYTA DACLIZUMAB   \n",
       "573616                      RAFFO GARDOTON GLIBENCLAMIDE   \n",
       "705611                   ATLANTIC GRUPA NAT&FORM UNKNOWN   \n",
       "669306                     BIOGROUP PSICOPHYT 19 UNKNOWN   \n",
       "\n",
       "                          target_text  \n",
       "76658            AMPICILLIN/SULBACTAM  \n",
       "22924                        ZINBRYTA  \n",
       "573616                  GLIBENCLAMIDE  \n",
       "705611   OTHER MUSCLE PAIN ANALGESICS  \n",
       "669306  OTHER MOOD ENHANCING PRODUCTS  "
      ]
     },
     "execution_count": 17,
     "metadata": {},
     "output_type": "execute_result"
    }
   ],
   "source": [
    "eval_df = pd.concat([X_train, y_train], axis=1)\n",
    "eval_df.head()"
   ]
  },
  {
   "cell_type": "code",
   "execution_count": 18,
   "id": "189d47b6",
   "metadata": {},
   "outputs": [
    {
     "data": {
      "text/html": [
       "<div>\n",
       "<style scoped>\n",
       "    .dataframe tbody tr th:only-of-type {\n",
       "        vertical-align: middle;\n",
       "    }\n",
       "\n",
       "    .dataframe tbody tr th {\n",
       "        vertical-align: top;\n",
       "    }\n",
       "\n",
       "    .dataframe thead th {\n",
       "        text-align: right;\n",
       "    }\n",
       "</style>\n",
       "<table border=\"1\" class=\"dataframe\">\n",
       "  <thead>\n",
       "    <tr style=\"text-align: right;\">\n",
       "      <th></th>\n",
       "      <th>input_text</th>\n",
       "      <th>target_text</th>\n",
       "    </tr>\n",
       "  </thead>\n",
       "  <tbody>\n",
       "    <tr>\n",
       "      <th>196937</th>\n",
       "      <td>SCHWABE TARTARUS STIB. DHU ANTIMONY</td>\n",
       "      <td>OTHER OTHER NUTRITIONALS</td>\n",
       "    </tr>\n",
       "    <tr>\n",
       "      <th>475377</th>\n",
       "      <td>ERBAGIL OTORIG MENTHOL OZONATED OLIVE OIL SODIUM</td>\n",
       "      <td>OTHER DECONGESTANTS</td>\n",
       "    </tr>\n",
       "    <tr>\n",
       "      <th>666670</th>\n",
       "      <td>NATIRIS HYPERIFORCE UNKNOWN</td>\n",
       "      <td>OTHER MOOD ENHANCING PRODUCTS</td>\n",
       "    </tr>\n",
       "    <tr>\n",
       "      <th>230449</th>\n",
       "      <td>Other BODIE UNKNOWN</td>\n",
       "      <td>OTHER SKIN CARE OTHERS</td>\n",
       "    </tr>\n",
       "    <tr>\n",
       "      <th>284444</th>\n",
       "      <td>BOIRON BOIRON ARNICA MONTANA SARCOLACTICUM</td>\n",
       "      <td>OTHER ANALGESICS - TOPICAL</td>\n",
       "    </tr>\n",
       "  </tbody>\n",
       "</table>\n",
       "</div>"
      ],
      "text/plain": [
       "                                              input_text  \\\n",
       "196937               SCHWABE TARTARUS STIB. DHU ANTIMONY   \n",
       "475377  ERBAGIL OTORIG MENTHOL OZONATED OLIVE OIL SODIUM   \n",
       "666670                       NATIRIS HYPERIFORCE UNKNOWN   \n",
       "230449                               Other BODIE UNKNOWN   \n",
       "284444        BOIRON BOIRON ARNICA MONTANA SARCOLACTICUM   \n",
       "\n",
       "                          target_text  \n",
       "196937       OTHER OTHER NUTRITIONALS  \n",
       "475377            OTHER DECONGESTANTS  \n",
       "666670  OTHER MOOD ENHANCING PRODUCTS  \n",
       "230449         OTHER SKIN CARE OTHERS  \n",
       "284444     OTHER ANALGESICS - TOPICAL  "
      ]
     },
     "execution_count": 18,
     "metadata": {},
     "output_type": "execute_result"
    }
   ],
   "source": [
    "test_df = pd.concat([X_test, y_test], axis=1)\n",
    "test_df.head()"
   ]
  },
  {
   "cell_type": "code",
   "execution_count": 19,
   "id": "b91067d6",
   "metadata": {},
   "outputs": [],
   "source": [
    "import logging\n",
    "\n",
    "import pandas as pd\n",
    "from simpletransformers.seq2seq import Seq2SeqModel, Seq2SeqArgs\n",
    "\n",
    "\n",
    "logging.basicConfig(level=logging.INFO)\n",
    "transformers_logger = logging.getLogger(\"transformers\")\n",
    "transformers_logger.setLevel(logging.WARNING)"
   ]
  },
  {
   "cell_type": "markdown",
   "id": "a3e374da",
   "metadata": {},
   "source": [
    "\n",
    "'''\n",
    "train_data = [\n",
    "    [\n",
    "        \"Perseus “Percy” Jackson is the main protagonist and the narrator of the Percy Jackson and the Olympians series.\",\n",
    "        \"Percy is the protagonist of Percy Jackson and the Olympians\",\n",
    "    ],\n",
    "    [\n",
    "        \"Annabeth Chase is one of the main protagonists in Percy Jackson and the Olympians.\",\n",
    "        \"Annabeth is a protagonist in Percy Jackson and the Olympians.\",\n",
    "    ],\n",
    "]\n",
    "'''\n",
    "\n",
    "train_df = pd.DataFrame(train_data, columns=[\"input_text\", \"target_text\"])\n",
    "\n",
    "'''\n",
    "eval_data = [\n",
    "    [\n",
    "        \"Grover Underwood is a satyr and the Lord of the Wild. He is the satyr who found the demigods Thalia Grace, Nico and Bianca di Angelo, Percy Jackson, Annabeth Chase, and Luke Castellan.\",\n",
    "        \"Grover is a satyr who found many important demigods.\",\n",
    "    ],\n",
    "    [\n",
    "        \"Thalia Grace is the daughter of Zeus, sister of Jason Grace. After several years as a pine tree on Half-Blood Hill, she got a new job leading the Hunters of Artemis.\",\n",
    "        \"Thalia is the daughter of Zeus and leader of the Hunters of Artemis.\",\n",
    "    ],\n",
    "]\n",
    "'''\n",
    "\n",
    "eval_df = pd.DataFrame(eval_data, columns=[\"input_text\", \"target_text\"])\n",
    "\n"
   ]
  },
  {
   "cell_type": "code",
   "execution_count": null,
   "id": "8e81236a",
   "metadata": {},
   "outputs": [
    {
     "name": "stderr",
     "output_type": "stream",
     "text": [
      "INFO:simpletransformers.seq2seq.seq2seq_utils: Creating features from dataset file at cache_dir/\n"
     ]
    },
    {
     "data": {
      "application/vnd.jupyter.widget-view+json": {
       "model_id": "f1a53be589cc49608db4d663fdcdc5eb",
       "version_major": 2,
       "version_minor": 0
      },
      "text/plain": [
       "  0%|          | 0/640000 [00:00<?, ?it/s]"
      ]
     },
     "metadata": {},
     "output_type": "display_data"
    }
   ],
   "source": [
    "# Configure the model\n",
    "model_args = Seq2SeqArgs()\n",
    "model_args.num_train_epochs = 200\n",
    "model_args.evaluate_generated_text = True\n",
    "model_args.evaluate_during_training = True\n",
    "model_args.evaluate_during_training_verbose = True\n",
    "\n",
    "model = Seq2SeqModel(\n",
    "    encoder_decoder_type=\"bart\",\n",
    "    encoder_decoder_name=\"facebook/bart-large\",\n",
    "    args=model_args, use_cuda=False\n",
    ")\n",
    "\n",
    "# Train the model\n",
    "model.train_model(train_df, eval_data=eval_df)\n",
    "\n",
    "# Evaluate the model\n",
    "result = model.eval_model(eval_df)\n",
    "\n"
   ]
  },
  {
   "cell_type": "code",
   "execution_count": null,
   "id": "89f7ac28",
   "metadata": {},
   "outputs": [],
   "source": [
    "# Use the model for prediction\n",
    "print(\n",
    "    model.predict(\n",
    "        [\n",
    "            \"Tyson is a Cyclops, a son of Poseidon, and Percy Jackson’s half brother. He is the current general of the Cyclopes army.\"\n",
    "        ]\n",
    "    )\n",
    ")"
   ]
  },
  {
   "cell_type": "code",
   "execution_count": null,
   "id": "fad668dd",
   "metadata": {},
   "outputs": [],
   "source": []
  },
  {
   "cell_type": "code",
   "execution_count": null,
   "id": "44d1810b",
   "metadata": {},
   "outputs": [],
   "source": []
  },
  {
   "cell_type": "code",
   "execution_count": null,
   "id": "d3c2e024",
   "metadata": {},
   "outputs": [],
   "source": []
  },
  {
   "cell_type": "code",
   "execution_count": 266,
   "id": "5853fbfe",
   "metadata": {},
   "outputs": [
    {
     "ename": "ModuleNotFoundError",
     "evalue": "No module named 'torch'",
     "output_type": "error",
     "traceback": [
      "\u001b[1;31m---------------------------------------------------------------------------\u001b[0m",
      "\u001b[1;31mModuleNotFoundError\u001b[0m                       Traceback (most recent call last)",
      "Input \u001b[1;32mIn [266]\u001b[0m, in \u001b[0;36m<module>\u001b[1;34m\u001b[0m\n\u001b[1;32m----> 1\u001b[0m \u001b[38;5;28;01mfrom\u001b[39;00m \u001b[38;5;21;01msimpletransformers\u001b[39;00m\u001b[38;5;21;01m.\u001b[39;00m\u001b[38;5;21;01mclassification\u001b[39;00m \u001b[38;5;28;01mimport\u001b[39;00m ClassificationModel, ClassificationArgs\n\u001b[0;32m      2\u001b[0m \u001b[38;5;28;01mimport\u001b[39;00m \u001b[38;5;21;01mpandas\u001b[39;00m \u001b[38;5;28;01mas\u001b[39;00m \u001b[38;5;21;01mpd\u001b[39;00m\n\u001b[0;32m      3\u001b[0m \u001b[38;5;28;01mimport\u001b[39;00m \u001b[38;5;21;01mlogging\u001b[39;00m\n",
      "File \u001b[1;32m~\\AppData\\Local\\Programs\\Python\\Python310\\lib\\site-packages\\simpletransformers\\classification\\__init__.py:1\u001b[0m, in \u001b[0;36m<module>\u001b[1;34m\u001b[0m\n\u001b[1;32m----> 1\u001b[0m \u001b[38;5;28;01mfrom\u001b[39;00m \u001b[38;5;21;01msimpletransformers\u001b[39;00m\u001b[38;5;21;01m.\u001b[39;00m\u001b[38;5;21;01mclassification\u001b[39;00m\u001b[38;5;21;01m.\u001b[39;00m\u001b[38;5;21;01mclassification_model\u001b[39;00m \u001b[38;5;28;01mimport\u001b[39;00m ClassificationModel\n\u001b[0;32m      2\u001b[0m \u001b[38;5;28;01mfrom\u001b[39;00m \u001b[38;5;21;01msimpletransformers\u001b[39;00m\u001b[38;5;21;01m.\u001b[39;00m\u001b[38;5;21;01mclassification\u001b[39;00m\u001b[38;5;21;01m.\u001b[39;00m\u001b[38;5;21;01mmulti_label_classification_model\u001b[39;00m \u001b[38;5;28;01mimport\u001b[39;00m (\n\u001b[0;32m      3\u001b[0m     MultiLabelClassificationModel,\n\u001b[0;32m      4\u001b[0m )\n\u001b[0;32m      5\u001b[0m \u001b[38;5;28;01mfrom\u001b[39;00m \u001b[38;5;21;01msimpletransformers\u001b[39;00m\u001b[38;5;21;01m.\u001b[39;00m\u001b[38;5;21;01mclassification\u001b[39;00m\u001b[38;5;21;01m.\u001b[39;00m\u001b[38;5;21;01mmulti_modal_classification_model\u001b[39;00m \u001b[38;5;28;01mimport\u001b[39;00m (\n\u001b[0;32m      6\u001b[0m     MultiModalClassificationModel,\n\u001b[0;32m      7\u001b[0m )\n",
      "File \u001b[1;32m~\\AppData\\Local\\Programs\\Python\\Python310\\lib\\site-packages\\simpletransformers\\classification\\classification_model.py:20\u001b[0m, in \u001b[0;36m<module>\u001b[1;34m\u001b[0m\n\u001b[0;32m     18\u001b[0m \u001b[38;5;28;01mimport\u001b[39;00m \u001b[38;5;21;01mnumpy\u001b[39;00m \u001b[38;5;28;01mas\u001b[39;00m \u001b[38;5;21;01mnp\u001b[39;00m\n\u001b[0;32m     19\u001b[0m \u001b[38;5;28;01mimport\u001b[39;00m \u001b[38;5;21;01mpandas\u001b[39;00m \u001b[38;5;28;01mas\u001b[39;00m \u001b[38;5;21;01mpd\u001b[39;00m\n\u001b[1;32m---> 20\u001b[0m \u001b[38;5;28;01mimport\u001b[39;00m \u001b[38;5;21;01mtorch\u001b[39;00m\n\u001b[0;32m     21\u001b[0m \u001b[38;5;28;01mfrom\u001b[39;00m \u001b[38;5;21;01mscipy\u001b[39;00m\u001b[38;5;21;01m.\u001b[39;00m\u001b[38;5;21;01mstats\u001b[39;00m \u001b[38;5;28;01mimport\u001b[39;00m mode, pearsonr\n\u001b[0;32m     22\u001b[0m \u001b[38;5;28;01mfrom\u001b[39;00m \u001b[38;5;21;01mscipy\u001b[39;00m\u001b[38;5;21;01m.\u001b[39;00m\u001b[38;5;21;01mspecial\u001b[39;00m \u001b[38;5;28;01mimport\u001b[39;00m softmax\n",
      "\u001b[1;31mModuleNotFoundError\u001b[0m: No module named 'torch'"
     ]
    }
   ],
   "source": [
    "from simpletransformers.classification import ClassificationModel, ClassificationArgs\n",
    "import pandas as pd\n",
    "import logging\n",
    "\n",
    "\n",
    "logging.basicConfig(level=logging.INFO)\n",
    "transformers_logger = logging.getLogger(\"transformers\")\n",
    "transformers_logger.setLevel(logging.WARNING)\n",
    "\n",
    "# Preparing train data\n",
    "train_data = [\n",
    "    [\"Aragorn was the heir of Isildur\", 1],\n",
    "    [\"Frodo was the heir of Isildur\", 0],\n",
    "]\n",
    "train_df = pd.DataFrame(train_data)\n",
    "train_df.columns = [\"text\", \"labels\"]\n",
    "\n",
    "# Preparing eval data\n",
    "eval_data = [\n",
    "    [\"Theoden was the king of Rohan\", 1],\n",
    "    [\"Merry was the king of Rohan\", 0],\n",
    "]\n",
    "eval_df = pd.DataFrame(eval_data)\n",
    "eval_df.columns = [\"text\", \"labels\"]\n",
    "\n",
    "# Optional model configuration\n",
    "model_args = ClassificationArgs(num_train_epochs=1)\n",
    "\n",
    "# Create a ClassificationModel\n",
    "model = ClassificationModel(\n",
    "    \"roberta\", \"roberta-base\", args=model_args, use_cuda=False, fp=False\n",
    ")\n",
    "\n",
    "# Train the model\n",
    "model.train_model(train_df)\n",
    "\n",
    "# Evaluate the model\n",
    "result, model_outputs, wrong_predictions = model.eval_model(eval_df)\n",
    "\n",
    "# Make predictions with the model\n",
    "predictions, raw_outputs = model.predict([\"Sam was a Wizard\"])"
   ]
  }
 ],
 "metadata": {
  "kernelspec": {
   "display_name": "Python 3 (ipykernel)",
   "language": "python",
   "name": "python3"
  },
  "language_info": {
   "codemirror_mode": {
    "name": "ipython",
    "version": 3
   },
   "file_extension": ".py",
   "mimetype": "text/x-python",
   "name": "python",
   "nbconvert_exporter": "python",
   "pygments_lexer": "ipython3",
   "version": "3.9.7"
  }
 },
 "nbformat": 4,
 "nbformat_minor": 5
}
